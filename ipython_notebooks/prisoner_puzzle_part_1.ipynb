{
 "metadata": {
  "name": "",
  "signature": "sha256:7aa361ec749f6ad1fcf4c383f3ca6d7410c99d5b833ceca77731bdee8c53f936"
 },
 "nbformat": 3,
 "nbformat_minor": 0,
 "worksheets": [
  {
   "cells": [
    {
     "cell_type": "markdown",
     "metadata": {},
     "source": [
      "I recently heard this riddle from a friend at a campfire. I wasn't smart enough to come up with the answer, \n",
      "but when it was explained to me I wanted to know how long it would take the prisoners to be released. \n",
      "In this post I'll describe the riddle and the answer, and show how to use Python to set up an experiment, \n",
      "use a Monte Carlo simulator to run the experiment repeatedly, and briefly discuss some of the results.\n",
      "\n",
      "The Riddle\n",
      "---------\n",
      "\n",
      "There are 50 prisoners, and one prison keeper. The prisoners will be placed in separate cells, never \n",
      "able to communicate. Once per day, the prison keeper will randomly select one prisoner and take him \n",
      "into a room with two levers. The levers have two positions each: Up, and down. The prisoner may operate \n",
      "the levers however he wishes, then he must return to his cell. (The levers don't do anything; they \n",
      "just represent a binary state.) The prisoners have one chance to indicate to the prison keeper whether \n",
      "all the prisoners have been in the lever-room. If they so indicate too early, they will never be released. \n",
      "If they're correct (even if they're late), they will be released immediately. The prisoners get one chance \n",
      "to meet prior to imprisonment, to discuss strategy. How can they ensure their release?\n",
      "\n",
      "The Answer\n",
      "---------\n",
      "\n",
      "Only one lever is needed. Elect one prisoner to be a 'counter.' When a prisoner enters the lever room and \n",
      "the lever is in the 'down' position and he has never moved the lever, then and only then will he move the \n",
      "lever to the 'up' position. Only the 'counter' prisoner may return the lever to the 'down' position, and \n",
      "each time he does so he increments a counter. When the counter reaches 50, he knows that all prisoners have \n",
      "been into the lever room at least once. He can then inform the prison guard, and all the prisoners will be \n",
      "released.\n",
      "\n",
      "A Solution in Python\n",
      "----------------\n",
      "\n",
      "I came up with the following model in Python to describe the prison scenario. There are probably better \n",
      "and more optimized way to represent this situation, but here's the first one I came up with."
     ]
    },
    {
     "cell_type": "code",
     "collapsed": false,
     "input": [
      "import random\n",
      "\n",
      "def run_simulation():\n",
      "    day_number = 0 \n",
      "    prisoner_designee = 1 # chosen by prisoners to be the official counter\n",
      "    counter = 0 # as tracked by the prisoner_designee\n",
      "    lever_position = 'down' # starting position of the lever\n",
      "    prisoners_who_have_operated_lever = []\n",
      "\n",
      "    while counter < 50: \n",
      "        prisoner_number = random.randint(1,50)    # Select a prisoner\n",
      "        if not prisoner_number in prisoners_who_have_operated_lever:\n",
      "            if lever_position == 'down':\n",
      "                prisoners_who_have_operated_lever.append(prisoner_number)\n",
      "                lever_position = 'up'\n",
      "        if prisoner_number == prisoner_designee:    # If it's the designee...\n",
      "            if lever_position == 'up':              # ...and the lever is up...\n",
      "                lever_position = 'down'             # ...put the lever back down...\n",
      "                counter += 1                        # ...and increment the counter.\n",
      "        day_number += 1\n",
      "    return day_number"
     ],
     "language": "python",
     "metadata": {},
     "outputs": [],
     "prompt_number": 12
    },
    {
     "cell_type": "code",
     "collapsed": false,
     "input": [
      "run_simulation()"
     ],
     "language": "python",
     "metadata": {},
     "outputs": [
      {
       "metadata": {},
       "output_type": "pyout",
       "prompt_number": 13,
       "text": [
        "2691"
       ]
      }
     ],
     "prompt_number": 13
    },
    {
     "cell_type": "markdown",
     "metadata": {},
     "source": [
      "The above code uses 'random.randint' to generate a random integer. I used `if` statements \n",
      "to describe the logic, and printed out the result.\n",
      "\n",
      "This means that for this particular run, it would have taken the prisoners (or rather, the prisoners' \n",
      "designated counter prisoner_designee) this many days to count 50 'up' levers, proving that all prisoners \n",
      "had entered the lever room and ensuring their release. That's just under seven years(!).\n",
      "\n",
      "But this result depends on the order in which the prison keeper (in our case represented by random.randint) \n",
      "chose the prisoners. Running this code at the command line produces different results each time, usually \n",
      "in the range of 2500--3000 (days). To get a better picture of how long it would take a new group of \n",
      "prisoners to earn their release we'd have to simulate the whole range of possible outputs (or which \n",
      "there are nearly infinitely many) But I don't want to run this manually dozens of times and tabulate \n",
      "the results by hand; I want to make the code run the simulation thousands of times, with random inputs \n",
      "each time, and then aggregate the results. That's the \n",
      "[Monte Carlo method](http://en.wikipedia.org/wiki/Monte_Carlo_method).\n",
      "\n",
      "Implementing the Monte Carlo method\n",
      "----------------------------------\n",
      "\n",
      "We're going to use a loop to run the experiment. Below, we use a `while` loop to run the simulation \n",
      "1000 times, storing the results in the list called `simulation_results`."
     ]
    },
    {
     "cell_type": "code",
     "collapsed": false,
     "input": [
      "simulation_results = []\n",
      "simulations = 0 \n",
      "while simulations < 100:\n",
      "    simulation_results.append(run_simulation())\n",
      "    simulations += 1\n",
      "print simulation_results"
     ],
     "language": "python",
     "metadata": {},
     "outputs": [
      {
       "output_type": "stream",
       "stream": "stdout",
       "text": [
        "[2412, 1853, 2175, 2548, 2231, 1875, 2681, 2559, 3088, 2807, 2399, 2986, 2961, 2587, 2507, 2479, 2617, 2508, 2729, 2998, 2615, 2189, 2682, 2044, 3117, 2732, 2562, 2559, 2583, 2365, 2870, 2814, 2834, 2092, 2787, 2956, 3226, 2677, 2904, 3013, 2816, 2759, 2151, 2445, 2468, 3079, 2596, 2994, 2745, 2850, 2740, 2755, 2114, 2595, 2444, 3172, 2983, 2852, 2278, 2267, 2707, 3429, 2960, 2629, 2495, 3711, 2255, 2623, 2554, 2204, 2862, 2416, 2450, 1887, 2281, 2212, 3097, 2758, 2760, 2564, 3212, 3252, 2600, 2246, 2497, 2837, 2624, 2133, 2329, 2586, 2065, 2715, 3171, 3117, 2633, 2857, 2535, 2575, 2496, 2588]\n"
       ]
      }
     ],
     "prompt_number": 14
    },
    {
     "cell_type": "markdown",
     "metadata": {},
     "source": [
      "The last step in the Monte Carlo method is to aggregate and interpret the results. In this case, that \n",
      "means taking the average of all the simulation runs. A simple way to do this with lists is to sum \n",
      "the list:\n",
      "\n",
      "```\n",
      "average = sum(list)/len(list)`\n",
      "```\n",
      "A more elegant way is to use Numpy's built-in `mean` function, \n",
      "which requires first converting the `list` to a Numpy `array`:"
     ]
    },
    {
     "cell_type": "code",
     "collapsed": false,
     "input": [
      "import numpy\n",
      "array = numpy.array(simulation_results)\n",
      "array.mean()"
     ],
     "language": "python",
     "metadata": {},
     "outputs": [
      {
       "metadata": {},
       "output_type": "pyout",
       "prompt_number": 15,
       "text": [
        "2636.46"
       ]
      }
     ],
     "prompt_number": 15
    },
    {
     "cell_type": "markdown",
     "metadata": {},
     "source": [
      "Now, instead of one experiment, this result represents the average of 1000 experiments.\n",
      "\n",
      "So what?\n",
      "---------\n",
      "\n",
      "So on average, it would take 50 prisoners in this scenario 2721 days to earn their release. \n",
      "Cool. Neat. But this raises so many more questions: Is this number related to the probability \n",
      "of 1/50)x(1/50)? Where is this average value in the range of values yielded from the 1000 \n",
      "results? If we halve the number of prisoners, will the number of days go down by half? \n",
      "What does a histogram of the results look like? The answers, as well as a more in-depth \n",
      "discussion of other statistics, will be in the next post."
     ]
    },
    {
     "cell_type": "code",
     "collapsed": false,
     "input": [],
     "language": "python",
     "metadata": {},
     "outputs": []
    }
   ],
   "metadata": {}
  }
 ]
}